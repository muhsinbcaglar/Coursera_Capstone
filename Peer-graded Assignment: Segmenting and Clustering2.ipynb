{
    "cells": [
        {
            "cell_type": "markdown",
            "metadata": {
                "collapsed": true
            },
            "source": "# COURSERA CAPSTONE PROJECT: Segmenting and Clustering Neighborhoods in Toronto"
        },
        {
            "cell_type": "code",
            "execution_count": 7,
            "metadata": {},
            "outputs": [
                {
                    "name": "stdout",
                    "output_type": "stream",
                    "text": "Libraries imported.\nRequirement already satisfied: lxml in /opt/conda/envs/Python-3.7-main/lib/python3.7/site-packages (4.5.1)\nRequirement already satisfied: html5lib in /opt/conda/envs/Python-3.7-main/lib/python3.7/site-packages (1.1)\nRequirement already satisfied: beautifulsoup4 in /opt/conda/envs/Python-3.7-main/lib/python3.7/site-packages (4.9.1)\nRequirement already satisfied: six>=1.9 in /opt/conda/envs/Python-3.7-main/lib/python3.7/site-packages (from html5lib) (1.15.0)\nRequirement already satisfied: webencodings in /opt/conda/envs/Python-3.7-main/lib/python3.7/site-packages (from html5lib) (0.5.1)\nRequirement already satisfied: soupsieve>1.2 in /opt/conda/envs/Python-3.7-main/lib/python3.7/site-packages (from beautifulsoup4) (2.0.1)\nPackage Installed\n"
                }
            ],
            "source": "import numpy as np # library for vectorized computation\nimport pandas as pd # library to process data as dataframes\n\nimport matplotlib.pyplot as plt # plotting library\n# backend for rendering plots within the browser\n%matplotlib inline \nfrom sklearn.cluster import KMeans \nprint('Libraries imported.')\n\n!pip install lxml html5lib beautifulsoup4\n\nprint('Package Installed')"
        },
        {
            "cell_type": "code",
            "execution_count": 48,
            "metadata": {},
            "outputs": [
                {
                    "name": "stdout",
                    "output_type": "stream",
                    "text": "3\n"
                }
            ],
            "source": "import pandas as pd\n\nurl = 'https://en.wikipedia.org/wiki/List_of_postal_codes_of_Canada:_M'\ndf = pd.read_html(url)\n\nprint(len(df))"
        },
        {
            "cell_type": "code",
            "execution_count": 49,
            "metadata": {},
            "outputs": [],
            "source": "dfs = df[0]"
        },
        {
            "cell_type": "code",
            "execution_count": 50,
            "metadata": {},
            "outputs": [
                {
                    "data": {
                        "text/html": "<div>\n<style scoped>\n    .dataframe tbody tr th:only-of-type {\n        vertical-align: middle;\n    }\n\n    .dataframe tbody tr th {\n        vertical-align: top;\n    }\n\n    .dataframe thead th {\n        text-align: right;\n    }\n</style>\n<table border=\"1\" class=\"dataframe\">\n  <thead>\n    <tr style=\"text-align: right;\">\n      <th></th>\n      <th>Postal Code</th>\n      <th>Borough</th>\n      <th>Neighbourhood</th>\n    </tr>\n  </thead>\n  <tbody>\n    <tr>\n      <th>0</th>\n      <td>M1A</td>\n      <td>Not assigned</td>\n      <td>Not assigned</td>\n    </tr>\n    <tr>\n      <th>1</th>\n      <td>M2A</td>\n      <td>Not assigned</td>\n      <td>Not assigned</td>\n    </tr>\n    <tr>\n      <th>2</th>\n      <td>M3A</td>\n      <td>North York</td>\n      <td>Parkwoods</td>\n    </tr>\n    <tr>\n      <th>3</th>\n      <td>M4A</td>\n      <td>North York</td>\n      <td>Victoria Village</td>\n    </tr>\n    <tr>\n      <th>4</th>\n      <td>M5A</td>\n      <td>Downtown Toronto</td>\n      <td>Regent Park, Harbourfront</td>\n    </tr>\n  </tbody>\n</table>\n</div>",
                        "text/plain": "  Postal Code           Borough              Neighbourhood\n0         M1A      Not assigned               Not assigned\n1         M2A      Not assigned               Not assigned\n2         M3A        North York                  Parkwoods\n3         M4A        North York           Victoria Village\n4         M5A  Downtown Toronto  Regent Park, Harbourfront"
                    },
                    "execution_count": 50,
                    "metadata": {},
                    "output_type": "execute_result"
                }
            ],
            "source": "dfs.head()"
        },
        {
            "cell_type": "code",
            "execution_count": 51,
            "metadata": {},
            "outputs": [
                {
                    "data": {
                        "text/plain": "Postal Code      180\nBorough          180\nNeighbourhood    180\ndtype: int64"
                    },
                    "execution_count": 51,
                    "metadata": {},
                    "output_type": "execute_result"
                }
            ],
            "source": "dfs.count()"
        },
        {
            "cell_type": "code",
            "execution_count": 53,
            "metadata": {},
            "outputs": [
                {
                    "data": {
                        "text/html": "<div>\n<style scoped>\n    .dataframe tbody tr th:only-of-type {\n        vertical-align: middle;\n    }\n\n    .dataframe tbody tr th {\n        vertical-align: top;\n    }\n\n    .dataframe thead th {\n        text-align: right;\n    }\n</style>\n<table border=\"1\" class=\"dataframe\">\n  <thead>\n    <tr style=\"text-align: right;\">\n      <th></th>\n      <th>Postal Code</th>\n      <th>Borough</th>\n      <th>Neighbourhood</th>\n    </tr>\n  </thead>\n  <tbody>\n    <tr>\n      <th>2</th>\n      <td>M3A</td>\n      <td>North York</td>\n      <td>Parkwoods</td>\n    </tr>\n    <tr>\n      <th>3</th>\n      <td>M4A</td>\n      <td>North York</td>\n      <td>Victoria Village</td>\n    </tr>\n    <tr>\n      <th>4</th>\n      <td>M5A</td>\n      <td>Downtown Toronto</td>\n      <td>Regent Park, Harbourfront</td>\n    </tr>\n    <tr>\n      <th>5</th>\n      <td>M6A</td>\n      <td>North York</td>\n      <td>Lawrence Manor, Lawrence Heights</td>\n    </tr>\n    <tr>\n      <th>6</th>\n      <td>M7A</td>\n      <td>Downtown Toronto</td>\n      <td>Queen's Park, Ontario Provincial Government</td>\n    </tr>\n  </tbody>\n</table>\n</div>",
                        "text/plain": "  Postal Code           Borough                                Neighbourhood\n2         M3A        North York                                    Parkwoods\n3         M4A        North York                             Victoria Village\n4         M5A  Downtown Toronto                    Regent Park, Harbourfront\n5         M6A        North York             Lawrence Manor, Lawrence Heights\n6         M7A  Downtown Toronto  Queen's Park, Ontario Provincial Government"
                    },
                    "execution_count": 53,
                    "metadata": {},
                    "output_type": "execute_result"
                }
            ],
            "source": "dfs.drop(dfs[dfs['Borough'] == 'Not assigned'].index, inplace = True) \ndfs.head()"
        },
        {
            "cell_type": "code",
            "execution_count": 54,
            "metadata": {},
            "outputs": [],
            "source": "dfs['Neighbourhood'].replace(to_replace=['Not assigned'], value=[dfs['Borough']],inplace=True)"
        },
        {
            "cell_type": "code",
            "execution_count": 62,
            "metadata": {},
            "outputs": [
                {
                    "data": {
                        "text/plain": "<pandas.core.groupby.generic.SeriesGroupBy object at 0x7f0f97c46110>"
                    },
                    "execution_count": 62,
                    "metadata": {},
                    "output_type": "execute_result"
                }
            ],
            "source": "dfs.groupby(['Borough'])['Neighbourhood']"
        },
        {
            "cell_type": "code",
            "execution_count": 73,
            "metadata": {},
            "outputs": [
                {
                    "data": {
                        "text/html": "<div>\n<style scoped>\n    .dataframe tbody tr th:only-of-type {\n        vertical-align: middle;\n    }\n\n    .dataframe tbody tr th {\n        vertical-align: top;\n    }\n\n    .dataframe thead th {\n        text-align: right;\n    }\n</style>\n<table border=\"1\" class=\"dataframe\">\n  <thead>\n    <tr style=\"text-align: right;\">\n      <th></th>\n      <th>Postal Code</th>\n      <th>Borough</th>\n      <th>Neighbourhood</th>\n    </tr>\n  </thead>\n  <tbody>\n    <tr>\n      <th>2</th>\n      <td>M3A</td>\n      <td>North York</td>\n      <td>Parkwoods</td>\n    </tr>\n    <tr>\n      <th>3</th>\n      <td>M4A</td>\n      <td>North York</td>\n      <td>Victoria Village</td>\n    </tr>\n    <tr>\n      <th>4</th>\n      <td>M5A</td>\n      <td>Downtown Toronto</td>\n      <td>Regent Park, Harbourfront</td>\n    </tr>\n    <tr>\n      <th>5</th>\n      <td>M6A</td>\n      <td>North York</td>\n      <td>Lawrence Manor, Lawrence Heights</td>\n    </tr>\n    <tr>\n      <th>6</th>\n      <td>M7A</td>\n      <td>Downtown Toronto</td>\n      <td>Queen's Park, Ontario Provincial Government</td>\n    </tr>\n  </tbody>\n</table>\n</div>",
                        "text/plain": "  Postal Code           Borough                                Neighbourhood\n2         M3A        North York                                    Parkwoods\n3         M4A        North York                             Victoria Village\n4         M5A  Downtown Toronto                    Regent Park, Harbourfront\n5         M6A        North York             Lawrence Manor, Lawrence Heights\n6         M7A  Downtown Toronto  Queen's Park, Ontario Provincial Government"
                    },
                    "execution_count": 73,
                    "metadata": {},
                    "output_type": "execute_result"
                }
            ],
            "source": "dfs.head()"
        },
        {
            "cell_type": "code",
            "execution_count": 74,
            "metadata": {},
            "outputs": [
                {
                    "data": {
                        "text/plain": "(103, 3)"
                    },
                    "execution_count": 74,
                    "metadata": {},
                    "output_type": "execute_result"
                }
            ],
            "source": "dfs.shape"
        },
        {
            "cell_type": "code",
            "execution_count": 75,
            "metadata": {
                "scrolled": true
            },
            "outputs": [
                {
                    "name": "stdout",
                    "output_type": "stream",
                    "text": "--2021-02-15 22:04:14--  http://cocl.us/Geospatial_data\nResolving cocl.us (cocl.us)... 169.63.96.176, 169.63.96.194\nConnecting to cocl.us (cocl.us)|169.63.96.176|:80... connected.\nHTTP request sent, awaiting response... 301 Moved Permanently\nLocation: https://cocl.us/Geospatial_data [following]\n--2021-02-15 22:04:14--  https://cocl.us/Geospatial_data\nConnecting to cocl.us (cocl.us)|169.63.96.176|:443... connected.\nHTTP request sent, awaiting response... 301 Moved Permanently\nLocation: https://ibm.box.com/shared/static/9afzr83pps4pwf2smjjcf1y5mvgb18rr.csv [following]\n--2021-02-15 22:04:15--  https://ibm.box.com/shared/static/9afzr83pps4pwf2smjjcf1y5mvgb18rr.csv\nResolving ibm.box.com (ibm.box.com)... 185.235.236.197\nConnecting to ibm.box.com (ibm.box.com)|185.235.236.197|:443... connected.\nHTTP request sent, awaiting response... 301 Moved Permanently\nLocation: /public/static/9afzr83pps4pwf2smjjcf1y5mvgb18rr.csv [following]\n--2021-02-15 22:04:16--  https://ibm.box.com/public/static/9afzr83pps4pwf2smjjcf1y5mvgb18rr.csv\nReusing existing connection to ibm.box.com:443.\nHTTP request sent, awaiting response... 301 Moved Permanently\nLocation: https://ibm.ent.box.com/public/static/9afzr83pps4pwf2smjjcf1y5mvgb18rr.csv [following]\n--2021-02-15 22:04:16--  https://ibm.ent.box.com/public/static/9afzr83pps4pwf2smjjcf1y5mvgb18rr.csv\nResolving ibm.ent.box.com (ibm.ent.box.com)... 107.152.29.201\nConnecting to ibm.ent.box.com (ibm.ent.box.com)|107.152.29.201|:443... connected.\nHTTP request sent, awaiting response... 302 Found\nLocation: https://public.boxcloud.com/d/1/b1!QzZNwXNtrchQrBb6YNm12a8l2YTR1V4Ey74JuG13LBfuh0oQ3VukbdlzsMu_V5x9jTqInKWk7W9pNi2DJbGFujX1ZUxmB27McXUR9HiAD07Ygn6Tzxcq_YLJkwgfT1bX4vejqjnwToAG0tWNVCT83GOQvvujwLX0qN_SDUGo39uHPvx7mmB3z9H1oHMJnAbxTxnP7SweTTvDiqleRuNBUeYKRNOWFS7LzjuW_uwJVW6ToGc3UOaP2ZWzoNhklm6ZcQGAMBZ8Bwftoa-WqO7SiLqEyGRW2XMSVcxYBkNVCRuos0Ge1j8BYQbbBMGR3GjhQLbOZ84pJYPAsqnq1rFaH3wPjQEZZj9_Au5Z2Og0m52xmPC6BXDEP5ujgxz1mU2KqvxRGiSocPmBtMV6bUxMwgh7eKdfSl32xasazR6nwAyCJlX6FFeoAH0e0nuuzIvShTQAXVJJ5S8vN7wBE0c76AB-qIfBW1cljJCvNE5G5hB1C7EjLGbNSgRFidonwoEdNbkoaCS5Em78ZxXGcV4zM5TYdWPs86AT7b1LaEBfIRc7ljNrbSOgewlWfbJsDMjYlGahLIA2SbzXyvIW6SPwjUqCt0lmmGsYMelR25D035DQgV_KwiEJt0B0UmlHdNxUakhouib-JmhohLhBuwj-W6YvOiidu7ha-CbE3h9L0tLOdeGSRAoINu7-KZbxR4mE0UP2LjW1Sjc2V1ZxZi0qFpjVzNFSh8lDVs01iCt4IMV34x0IHNosckVcKW67fymSsvAbKmaeDGU5NMTwQUrH-ktMh0v3ExycaT-_I4MVRFzasl9VAtwIBczDDj3JYYE8Xp9S8IlVKs2AppNQKKsT9acV2XTs3-0cmPD7MAIU22_fwx272mp8NTqlZXI2_WzpDcZdVYbjgD_BBKqSFBeC70RZltA4dN2R6P_3foA79Lb4-jB36qHHQL2NCeXv9SJsU5Eqv1_XBxNY0sajrKOImNFIV1oiLKZ0DFl1RHUbCkea0Up0O6AbiAamSEMfNJH_TChmXZAzzvN1KpXPMD9xYlaYCed-PiKGpHI4YTFka0Q4fRzhVXtVBv1uM02mQMx_MTgM7B-r8w65tN68c41xXNhq6rkXxsktNz3Wpqifi9_ZYqOG1yICLX0YWh4hSwyqHua47yCaaasae5rUuvlolt6V2vZzH6EX3PKBfH9BdaXH0s8wE7XVqiGehOmscyg5CcBzP0F24EBiYY4YXaVIXgYNadrhVmEk2OgayCWVoAwIZ-ONDBUc8LzABh6tiiA9xho68oc6-qRSeb4ct2oRpdMHb-GWHbmb26Ipudr89iqXkkc7H1H3b_K5RqMp2WlHIJMr2A3JoIPYbFeCcZgb4tkFfVc9oZVDj7EXK4NPCKW9xjVfhPhmDHVb22aF8etGn24077O3tYQMHTgbuLdSmlroO-0msKnNSqYPBicA2cfw4w../download [following]\n--2021-02-15 22:04:17--  https://public.boxcloud.com/d/1/b1!QzZNwXNtrchQrBb6YNm12a8l2YTR1V4Ey74JuG13LBfuh0oQ3VukbdlzsMu_V5x9jTqInKWk7W9pNi2DJbGFujX1ZUxmB27McXUR9HiAD07Ygn6Tzxcq_YLJkwgfT1bX4vejqjnwToAG0tWNVCT83GOQvvujwLX0qN_SDUGo39uHPvx7mmB3z9H1oHMJnAbxTxnP7SweTTvDiqleRuNBUeYKRNOWFS7LzjuW_uwJVW6ToGc3UOaP2ZWzoNhklm6ZcQGAMBZ8Bwftoa-WqO7SiLqEyGRW2XMSVcxYBkNVCRuos0Ge1j8BYQbbBMGR3GjhQLbOZ84pJYPAsqnq1rFaH3wPjQEZZj9_Au5Z2Og0m52xmPC6BXDEP5ujgxz1mU2KqvxRGiSocPmBtMV6bUxMwgh7eKdfSl32xasazR6nwAyCJlX6FFeoAH0e0nuuzIvShTQAXVJJ5S8vN7wBE0c76AB-qIfBW1cljJCvNE5G5hB1C7EjLGbNSgRFidonwoEdNbkoaCS5Em78ZxXGcV4zM5TYdWPs86AT7b1LaEBfIRc7ljNrbSOgewlWfbJsDMjYlGahLIA2SbzXyvIW6SPwjUqCt0lmmGsYMelR25D035DQgV_KwiEJt0B0UmlHdNxUakhouib-JmhohLhBuwj-W6YvOiidu7ha-CbE3h9L0tLOdeGSRAoINu7-KZbxR4mE0UP2LjW1Sjc2V1ZxZi0qFpjVzNFSh8lDVs01iCt4IMV34x0IHNosckVcKW67fymSsvAbKmaeDGU5NMTwQUrH-ktMh0v3ExycaT-_I4MVRFzasl9VAtwIBczDDj3JYYE8Xp9S8IlVKs2AppNQKKsT9acV2XTs3-0cmPD7MAIU22_fwx272mp8NTqlZXI2_WzpDcZdVYbjgD_BBKqSFBeC70RZltA4dN2R6P_3foA79Lb4-jB36qHHQL2NCeXv9SJsU5Eqv1_XBxNY0sajrKOImNFIV1oiLKZ0DFl1RHUbCkea0Up0O6AbiAamSEMfNJH_TChmXZAzzvN1KpXPMD9xYlaYCed-PiKGpHI4YTFka0Q4fRzhVXtVBv1uM02mQMx_MTgM7B-r8w65tN68c41xXNhq6rkXxsktNz3Wpqifi9_ZYqOG1yICLX0YWh4hSwyqHua47yCaaasae5rUuvlolt6V2vZzH6EX3PKBfH9BdaXH0s8wE7XVqiGehOmscyg5CcBzP0F24EBiYY4YXaVIXgYNadrhVmEk2OgayCWVoAwIZ-ONDBUc8LzABh6tiiA9xho68oc6-qRSeb4ct2oRpdMHb-GWHbmb26Ipudr89iqXkkc7H1H3b_K5RqMp2WlHIJMr2A3JoIPYbFeCcZgb4tkFfVc9oZVDj7EXK4NPCKW9xjVfhPhmDHVb22aF8etGn24077O3tYQMHTgbuLdSmlroO-0msKnNSqYPBicA2cfw4w../download\nResolving public.boxcloud.com (public.boxcloud.com)... 185.235.236.200\nConnecting to public.boxcloud.com (public.boxcloud.com)|185.235.236.200|:443... connected.\nHTTP request sent, awaiting response... 200 OK\nLength: 2891 (2.8K) [text/csv]\nSaving to: \u2018Geospatial_Coordinates.csv\u2019\n\nGeospatial_Coordina 100%[===================>]   2.82K  --.-KB/s    in 0s      \n\n2021-02-15 22:04:18 (57.3 MB/s) - \u2018Geospatial_Coordinates.csv\u2019 saved [2891/2891]\n\n"
                }
            ],
            "source": "!wget -O Geospatial_Coordinates.csv http://cocl.us/Geospatial_data\n\ndfcoord= pd.read_csv('Geospatial_Coordinates.csv')"
        },
        {
            "cell_type": "code",
            "execution_count": 76,
            "metadata": {},
            "outputs": [
                {
                    "data": {
                        "text/html": "<div>\n<style scoped>\n    .dataframe tbody tr th:only-of-type {\n        vertical-align: middle;\n    }\n\n    .dataframe tbody tr th {\n        vertical-align: top;\n    }\n\n    .dataframe thead th {\n        text-align: right;\n    }\n</style>\n<table border=\"1\" class=\"dataframe\">\n  <thead>\n    <tr style=\"text-align: right;\">\n      <th></th>\n      <th>Postal Code</th>\n      <th>Latitude</th>\n      <th>Longitude</th>\n    </tr>\n  </thead>\n  <tbody>\n    <tr>\n      <th>0</th>\n      <td>M1B</td>\n      <td>43.806686</td>\n      <td>-79.194353</td>\n    </tr>\n    <tr>\n      <th>1</th>\n      <td>M1C</td>\n      <td>43.784535</td>\n      <td>-79.160497</td>\n    </tr>\n    <tr>\n      <th>2</th>\n      <td>M1E</td>\n      <td>43.763573</td>\n      <td>-79.188711</td>\n    </tr>\n    <tr>\n      <th>3</th>\n      <td>M1G</td>\n      <td>43.770992</td>\n      <td>-79.216917</td>\n    </tr>\n    <tr>\n      <th>4</th>\n      <td>M1H</td>\n      <td>43.773136</td>\n      <td>-79.239476</td>\n    </tr>\n    <tr>\n      <th>...</th>\n      <td>...</td>\n      <td>...</td>\n      <td>...</td>\n    </tr>\n    <tr>\n      <th>98</th>\n      <td>M9N</td>\n      <td>43.706876</td>\n      <td>-79.518188</td>\n    </tr>\n    <tr>\n      <th>99</th>\n      <td>M9P</td>\n      <td>43.696319</td>\n      <td>-79.532242</td>\n    </tr>\n    <tr>\n      <th>100</th>\n      <td>M9R</td>\n      <td>43.688905</td>\n      <td>-79.554724</td>\n    </tr>\n    <tr>\n      <th>101</th>\n      <td>M9V</td>\n      <td>43.739416</td>\n      <td>-79.588437</td>\n    </tr>\n    <tr>\n      <th>102</th>\n      <td>M9W</td>\n      <td>43.706748</td>\n      <td>-79.594054</td>\n    </tr>\n  </tbody>\n</table>\n<p>103 rows \u00d7 3 columns</p>\n</div>",
                        "text/plain": "    Postal Code   Latitude  Longitude\n0           M1B  43.806686 -79.194353\n1           M1C  43.784535 -79.160497\n2           M1E  43.763573 -79.188711\n3           M1G  43.770992 -79.216917\n4           M1H  43.773136 -79.239476\n..          ...        ...        ...\n98          M9N  43.706876 -79.518188\n99          M9P  43.696319 -79.532242\n100         M9R  43.688905 -79.554724\n101         M9V  43.739416 -79.588437\n102         M9W  43.706748 -79.594054\n\n[103 rows x 3 columns]"
                    },
                    "execution_count": 76,
                    "metadata": {},
                    "output_type": "execute_result"
                }
            ],
            "source": "dfcoord"
        },
        {
            "cell_type": "code",
            "execution_count": 80,
            "metadata": {},
            "outputs": [
                {
                    "data": {
                        "text/html": "<div>\n<style scoped>\n    .dataframe tbody tr th:only-of-type {\n        vertical-align: middle;\n    }\n\n    .dataframe tbody tr th {\n        vertical-align: top;\n    }\n\n    .dataframe thead th {\n        text-align: right;\n    }\n</style>\n<table border=\"1\" class=\"dataframe\">\n  <thead>\n    <tr style=\"text-align: right;\">\n      <th></th>\n      <th>Postal Code</th>\n      <th>Borough</th>\n      <th>Neighbourhood</th>\n      <th>Latitude</th>\n      <th>Longitude</th>\n    </tr>\n  </thead>\n  <tbody>\n    <tr>\n      <th>0</th>\n      <td>M3A</td>\n      <td>North York</td>\n      <td>Parkwoods</td>\n      <td>43.753259</td>\n      <td>-79.329656</td>\n    </tr>\n    <tr>\n      <th>1</th>\n      <td>M4A</td>\n      <td>North York</td>\n      <td>Victoria Village</td>\n      <td>43.725882</td>\n      <td>-79.315572</td>\n    </tr>\n    <tr>\n      <th>2</th>\n      <td>M5A</td>\n      <td>Downtown Toronto</td>\n      <td>Regent Park, Harbourfront</td>\n      <td>43.654260</td>\n      <td>-79.360636</td>\n    </tr>\n    <tr>\n      <th>3</th>\n      <td>M6A</td>\n      <td>North York</td>\n      <td>Lawrence Manor, Lawrence Heights</td>\n      <td>43.718518</td>\n      <td>-79.464763</td>\n    </tr>\n    <tr>\n      <th>4</th>\n      <td>M7A</td>\n      <td>Downtown Toronto</td>\n      <td>Queen's Park, Ontario Provincial Government</td>\n      <td>43.662301</td>\n      <td>-79.389494</td>\n    </tr>\n    <tr>\n      <th>5</th>\n      <td>M9A</td>\n      <td>Etobicoke</td>\n      <td>Islington Avenue, Humber Valley Village</td>\n      <td>43.667856</td>\n      <td>-79.532242</td>\n    </tr>\n    <tr>\n      <th>6</th>\n      <td>M1B</td>\n      <td>Scarborough</td>\n      <td>Malvern, Rouge</td>\n      <td>43.806686</td>\n      <td>-79.194353</td>\n    </tr>\n    <tr>\n      <th>7</th>\n      <td>M3B</td>\n      <td>North York</td>\n      <td>Don Mills</td>\n      <td>43.745906</td>\n      <td>-79.352188</td>\n    </tr>\n    <tr>\n      <th>8</th>\n      <td>M4B</td>\n      <td>East York</td>\n      <td>Parkview Hill, Woodbine Gardens</td>\n      <td>43.706397</td>\n      <td>-79.309937</td>\n    </tr>\n    <tr>\n      <th>9</th>\n      <td>M5B</td>\n      <td>Downtown Toronto</td>\n      <td>Garden District, Ryerson</td>\n      <td>43.657162</td>\n      <td>-79.378937</td>\n    </tr>\n    <tr>\n      <th>10</th>\n      <td>M6B</td>\n      <td>North York</td>\n      <td>Glencairn</td>\n      <td>43.709577</td>\n      <td>-79.445073</td>\n    </tr>\n    <tr>\n      <th>11</th>\n      <td>M9B</td>\n      <td>Etobicoke</td>\n      <td>West Deane Park, Princess Gardens, Martin Grov...</td>\n      <td>43.650943</td>\n      <td>-79.554724</td>\n    </tr>\n    <tr>\n      <th>12</th>\n      <td>M1C</td>\n      <td>Scarborough</td>\n      <td>Rouge Hill, Port Union, Highland Creek</td>\n      <td>43.784535</td>\n      <td>-79.160497</td>\n    </tr>\n    <tr>\n      <th>13</th>\n      <td>M3C</td>\n      <td>North York</td>\n      <td>Don Mills</td>\n      <td>43.725900</td>\n      <td>-79.340923</td>\n    </tr>\n    <tr>\n      <th>14</th>\n      <td>M4C</td>\n      <td>East York</td>\n      <td>Woodbine Heights</td>\n      <td>43.695344</td>\n      <td>-79.318389</td>\n    </tr>\n  </tbody>\n</table>\n</div>",
                        "text/plain": "   Postal Code           Borough  \\\n0          M3A        North York   \n1          M4A        North York   \n2          M5A  Downtown Toronto   \n3          M6A        North York   \n4          M7A  Downtown Toronto   \n5          M9A         Etobicoke   \n6          M1B       Scarborough   \n7          M3B        North York   \n8          M4B         East York   \n9          M5B  Downtown Toronto   \n10         M6B        North York   \n11         M9B         Etobicoke   \n12         M1C       Scarborough   \n13         M3C        North York   \n14         M4C         East York   \n\n                                        Neighbourhood   Latitude  Longitude  \n0                                           Parkwoods  43.753259 -79.329656  \n1                                    Victoria Village  43.725882 -79.315572  \n2                           Regent Park, Harbourfront  43.654260 -79.360636  \n3                    Lawrence Manor, Lawrence Heights  43.718518 -79.464763  \n4         Queen's Park, Ontario Provincial Government  43.662301 -79.389494  \n5             Islington Avenue, Humber Valley Village  43.667856 -79.532242  \n6                                      Malvern, Rouge  43.806686 -79.194353  \n7                                           Don Mills  43.745906 -79.352188  \n8                     Parkview Hill, Woodbine Gardens  43.706397 -79.309937  \n9                            Garden District, Ryerson  43.657162 -79.378937  \n10                                          Glencairn  43.709577 -79.445073  \n11  West Deane Park, Princess Gardens, Martin Grov...  43.650943 -79.554724  \n12             Rouge Hill, Port Union, Highland Creek  43.784535 -79.160497  \n13                                          Don Mills  43.725900 -79.340923  \n14                                   Woodbine Heights  43.695344 -79.318389  "
                    },
                    "execution_count": 80,
                    "metadata": {},
                    "output_type": "execute_result"
                }
            ],
            "source": "df_merge_col = pd.merge(dfs, dfcoord, on='Postal Code')\ndf_merge_col.head(15)"
        },
        {
            "cell_type": "code",
            "execution_count": null,
            "metadata": {},
            "outputs": [],
            "source": ""
        }
    ],
    "metadata": {
        "kernelspec": {
            "display_name": "Python 3.7",
            "language": "python",
            "name": "python3"
        },
        "language_info": {
            "codemirror_mode": {
                "name": "ipython",
                "version": 3
            },
            "file_extension": ".py",
            "mimetype": "text/x-python",
            "name": "python",
            "nbconvert_exporter": "python",
            "pygments_lexer": "ipython3",
            "version": "3.7.9"
        }
    },
    "nbformat": 4,
    "nbformat_minor": 1
}