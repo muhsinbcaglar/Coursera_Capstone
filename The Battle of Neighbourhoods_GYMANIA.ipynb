{
 "cells": [
  {
   "cell_type": "markdown",
   "metadata": {},
   "source": [
    "# Capstone Project: The Battle of Neighbourhoods, GyMania"
   ]
  },
  {
   "cell_type": "markdown",
   "metadata": {},
   "source": [
    "## IBM Data Science Professional Certificate"
   ]
  },
  {
   "cell_type": "markdown",
   "metadata": {},
   "source": [
    "## Table of contents\n",
    "* [Introduction: Business Problem](#introduction)\n",
    "* [Data](#data)\n",
    "* [Methodology](#methodology)\n",
    "* [Analysis](#analysis)\n",
    "* [Results and Discussion](#results)\n",
    "* [Conclusion](#conclusion)"
   ]
  },
  {
   "cell_type": "markdown",
   "metadata": {},
   "source": [
    "## Introduction: Business Problem <a name=\"introduction\"></a>"
   ]
  },
  {
   "cell_type": "markdown",
   "metadata": {},
   "source": [
    "In this project, we will try to outline the best locations for a gym. Specifically, the project will focus on stakeholders interested in opening a commercial gym in London, United Kingdom. \n",
    "\n",
    "From the begining of the 21st century, with increase in available leisure time, less people working in physically demanding jobs due to automotion, more in-depth knowledge of dietary and health knowledge and the obeisty epidemic, people are more inclined to start a physical activity routine such as getting a gym membership. Local and national gym chains have seen a very large surge in their number of members. Moreover, it is clear that once the lockdown restrictions in place due to COVID-19 are lifted, a considerable amount of people will be craving to get back out there and improve their health, wellbeing and body image.\n",
    "\n",
    "In this project, we will try to focus on factors that effect the success of a gym business and try to optimise certain variables to identify the areas which have the most chance of success if a new gym was opened. Specifically, we will look at possible areas of oppurtunity in London, United Kingdom.\n",
    "\n",
    "There will be several factors that we will focus on. Obviously, the number one factor will be the availablity of a gym nearby as this will increase the number of competitors. Population density will be another factor that will be considered. Also, we would look at possible oppurtunities near area centres as most people will be going to the gym prior to or after work, hence being closer to work hubs and offices will be a bonus. Also, we will consider square meter price of porperties in the areas.\n",
    "\n",
    "Data analysis and data science tools will be used in order to analyse the available data based on the abovementioned criteria. Advantages will be outlined and the areas with best potentials will be listed."
   ]
  },
  {
   "cell_type": "markdown",
   "metadata": {},
   "source": [
    "## Data <a name=\"data\"></a>"
   ]
  },
  {
   "cell_type": "markdown",
   "metadata": {},
   "source": [
    "As previously outlined, we will require the following data:\n",
    "* number of existing gyms in the given area\n",
    "* population density of each area. (Based on Borough area and population)\n",
    "* distance of neighborhood from borough centre\n",
    "* square meter price of property in the area\n",
    "\n",
    "The boroughs within greater London will be devided up into the areas within it and the requried data will be collected.\n",
    "\n",
    "Following data sources will be needed to extract/generate the required information:\n",
    "* population density and square meter price of properties and area centre names will be scraped from datasets on the internet.\n",
    "* Approximate coordinates of centres of areas will be obtained using **Google Maps API reverse geocoding**\n",
    "* number of gyms and locations in every neighborhood will be obtained using **Foursquare API**"
   ]
  },
  {
   "cell_type": "code",
   "execution_count": null,
   "metadata": {},
   "outputs": [],
   "source": []
  }
 ],
 "metadata": {
  "kernelspec": {
   "display_name": "Python 3",
   "language": "python",
   "name": "python3"
  },
  "language_info": {
   "codemirror_mode": {
    "name": "ipython",
    "version": 3
   },
   "file_extension": ".py",
   "mimetype": "text/x-python",
   "name": "python",
   "nbconvert_exporter": "python",
   "pygments_lexer": "ipython3",
   "version": "3.8.5"
  }
 },
 "nbformat": 4,
 "nbformat_minor": 4
}
